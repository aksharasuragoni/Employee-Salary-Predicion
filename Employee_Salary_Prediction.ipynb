{
  "nbformat": 4,
  "nbformat_minor": 0,
  "metadata": {
    "colab": {
      "provenance": []
    },
    "kernelspec": {
      "name": "python3",
      "display_name": "Python 3"
    },
    "language_info": {
      "name": "python"
    }
  },
  "cells": [
    {
      "cell_type": "code",
      "execution_count": 9,
      "metadata": {
        "colab": {
          "base_uri": "https://localhost:8080/",
          "height": 646
        },
        "id": "B2ADGtEMtFy3",
        "outputId": "36a8e1b3-a887-4d46-9ede-d467611e1ab4"
      },
      "outputs": [
        {
          "output_type": "stream",
          "name": "stdout",
          "text": [
            "It looks like you are running Gradio on a hosted Jupyter notebook, which requires `share=True`. Automatically setting `share=True` (you can turn this off by setting `share=False` in `launch()` explicitly).\n",
            "\n",
            "Colab notebook detected. To show errors in colab notebook, set debug=True in launch()\n",
            "* Running on public URL: https://53e12bbcd6cfde54da.gradio.live\n",
            "\n",
            "This share link expires in 1 week. For free permanent hosting and GPU upgrades, run `gradio deploy` from the terminal in the working directory to deploy to Hugging Face Spaces (https://huggingface.co/spaces)\n"
          ]
        },
        {
          "output_type": "display_data",
          "data": {
            "text/plain": [
              "<IPython.core.display.HTML object>"
            ],
            "text/html": [
              "<div><iframe src=\"https://53e12bbcd6cfde54da.gradio.live\" width=\"100%\" height=\"500\" allow=\"autoplay; camera; microphone; clipboard-read; clipboard-write;\" frameborder=\"0\" allowfullscreen></iframe></div>"
            ]
          },
          "metadata": {}
        },
        {
          "output_type": "execute_result",
          "data": {
            "text/plain": []
          },
          "metadata": {},
          "execution_count": 9
        }
      ],
      "source": [
        "import pandas as pd\n",
        "import numpy as np\n",
        "from sklearn.model_selection import train_test_split\n",
        "from sklearn.preprocessing import LabelEncoder\n",
        "from sklearn.ensemble import RandomForestClassifier\n",
        "from sklearn.metrics import accuracy_score\n",
        "import gradio as gr\n",
        "\n",
        "# Load dataset\n",
        "data = pd.read_csv(\"adult.csv\")\n",
        "\n",
        "# Drop rows with missing values (\"?\" used as placeholder)\n",
        "data.replace('?', np.nan, inplace=True)\n",
        "data.dropna(inplace=True)\n",
        "\n",
        "# Encode categorical variables\n",
        "label_encoders = {}\n",
        "categorical_cols = data.select_dtypes(include=['object']).columns\n",
        "for col in categorical_cols:\n",
        "    le = LabelEncoder()\n",
        "    data[col] = le.fit_transform(data[col])\n",
        "    label_encoders[col] = le\n",
        "\n",
        "# Features and target\n",
        "X = data.drop('income', axis=1)\n",
        "y = data['income']\n",
        "\n",
        "# Train-test split\n",
        "X_train, X_test, y_train, y_test = train_test_split(X, y, test_size=0.2, random_state=42)\n",
        "\n",
        "# Train model on the training dataset\n",
        "model = RandomForestClassifier(n_estimators=100, random_state=42)\n",
        "model.fit(X_train, y_train)\n",
        "\n",
        "\n",
        "# Calculate mean/median for missing numerical features\n",
        "mean_fnlwgt = X['fnlwgt'].mean()\n",
        "mean_educational_num = X['educational-num'].mean()\n",
        "mean_capital_gain = X['capital-gain'].mean()\n",
        "mean_capital_loss = X['capital-loss'].mean()\n",
        "\n",
        "\n",
        "# For interface: define categorical options from label encoders\n",
        "def get_options(col):\n",
        "    le = label_encoders[col]\n",
        "    return list(le.classes_)\n",
        "\n",
        "# Prediction function\n",
        "def predict_salary(age, workclass, education, marital_status, occupation, relationship, race, gender, hours_per_week, native_country):\n",
        "    input_dict = {\n",
        "        'age': int(age),\n",
        "        'workclass': label_encoders['workclass'].transform([workclass])[0],\n",
        "        'fnlwgt': mean_fnlwgt,\n",
        "        'education': label_encoders['education'].transform([education])[0],\n",
        "        'educational-num': mean_educational_num,\n",
        "        'marital-status': label_encoders['marital-status'].transform([marital_status])[0],\n",
        "        'occupation': label_encoders['occupation'].transform([occupation])[0],\n",
        "        'relationship': label_encoders['relationship'].transform([relationship])[0],\n",
        "        'race': label_encoders['race'].transform([race])[0],\n",
        "        'gender': label_encoders['gender'].transform([gender])[0],\n",
        "        'capital-gain': mean_capital_gain,\n",
        "        'capital-loss': mean_capital_loss,\n",
        "        'hours-per-week': int(hours_per_week),\n",
        "        'native-country': label_encoders['native-country'].transform([native_country])[0]\n",
        "    }\n",
        "    input_df = pd.DataFrame([input_dict])\n",
        "\n",
        "    # Ensure the order of columns matches the training data\n",
        "    input_df = input_df[X.columns]\n",
        "\n",
        "\n",
        "    prediction = model.predict(input_df)[0]\n",
        "    return \">50K\" if prediction == 1 else \"<=50K\"\n",
        "\n",
        "# Gradio interface\n",
        "interface = gr.Interface(\n",
        "    fn=predict_salary,\n",
        "    inputs=[\n",
        "        gr.Number(label=\"Age\"),\n",
        "        gr.Dropdown(get_options('workclass'), label=\"Workclass\"),\n",
        "        gr.Dropdown(get_options('education'), label=\"Education\"),\n",
        "        gr.Dropdown(get_options('marital-status'), label=\"Marital Status\"),\n",
        "        gr.Dropdown(get_options('occupation'), label=\"Occupation\"),\n",
        "        gr.Dropdown(get_options('relationship'), label=\"Relationship\"),\n",
        "        gr.Dropdown(get_options('race'), label=\"Race\"),\n",
        "        gr.Dropdown(get_options('gender'), label=\"Gender\"),\n",
        "        gr.Number(label=\"Hours per Week\"),\n",
        "        gr.Dropdown(get_options('native-country'), label=\"Native Country\")\n",
        "    ],\n",
        "    outputs=gr.Text(label=\"Predicted Salary Class\"),\n",
        "    title=\"Employee Salary Prediction\",\n",
        "    description=\"Predict whether an employee earns >50K or <=50K based on their profile.\"\n",
        ")\n",
        "\n",
        "interface.launch()"
      ]
    }
  ]
}